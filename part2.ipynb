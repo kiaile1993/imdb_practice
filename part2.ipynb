{
 "cells": [
  {
   "cell_type": "code",
   "execution_count": null,
   "metadata": {},
   "outputs": [],
   "source": [
    "import pandas as pd\n",
    "from bs4 import BeautifulSoup\n",
    "import re"
   ]
  },
  {
   "cell_type": "code",
   "execution_count": null,
   "metadata": {},
   "outputs": [],
   "source": [
    "# load stop words from english.txt\n",
    "stopwords = []\n",
    "with open('english.txt','r',encoding='utf8')as f:\n",
    "    lines = f.readlines()\n",
    "    for line in lines:\n",
    "        stopwords.append(line.replace('\\n', ''))\n",
    "stopwords = set(stopwords)"
   ]
  },
  {
   "cell_type": "code",
   "execution_count": null,
   "metadata": {},
   "outputs": [],
   "source": [
    "# concat positive comments with negative ones\n",
    "data_list = []\n",
    "with open('imdb_train_pos.txt','r',encoding='utf8')as f:\n",
    "    lines = f.readlines()\n",
    "    for line in lines:\n",
    "        line = re.sub(\"[^a-zA-Z]\", \" \",BeautifulSoup(line).get_text()).lower()\n",
    "        data_list.append((line, 1))\n",
    "\n",
    "with open('imdb_train_neg.txt','r',encoding='utf8')as f:\n",
    "    lines = f.readlines()\n",
    "    for line in lines:\n",
    "        line = re.sub(\"[^a-zA-Z]\", \" \",BeautifulSoup(line).get_text()).lower()\n",
    "        data_list.append((line, 0))\n",
    "\n",
    "\n",
    "df = pd.DataFrame(data_list, columns=['text', 'label'])"
   ]
  },
  {
   "cell_type": "code",
   "execution_count": null,
   "metadata": {},
   "outputs": [],
   "source": [
    "# preprocess the text\n",
    "df['words'] = df['text'].apply(lambda x: [item for item in x.split() if item not in stopwords])\n",
    "df['processed_text'] = df['words'].apply(lambda x: ' '.join(x))"
   ]
  },
  {
   "cell_type": "code",
   "execution_count": null,
   "metadata": {},
   "outputs": [],
   "source": [
    "# extract features from long text\n",
    "from sklearn.feature_extraction.text import CountVectorizer\n",
    "vectorizer = CountVectorizer(analyzer = \"word\",   \\\n",
    "                             tokenizer = None,    \\\n",
    "                             preprocessor = None, \\\n",
    "                             stop_words = None,   \\\n",
    "                             max_features = 5000) \n",
    "train_data_features = vectorizer.fit_transform(list(df['processed_text']))\n",
    "train_data_features = train_data_features.toarray()\n",
    "vocab = vectorizer.get_feature_names()"
   ]
  },
  {
   "cell_type": "code",
   "execution_count": null,
   "metadata": {},
   "outputs": [],
   "source": [
    "# train random forest model\n",
    "from sklearn.ensemble import RandomForestClassifier\n",
    " \n",
    "forest = RandomForestClassifier(n_estimators = 100) \n",
    "forest = forest.fit(train_data_features, df[\"label\"] )"
   ]
  },
  {
   "cell_type": "code",
   "execution_count": null,
   "metadata": {},
   "outputs": [],
   "source": [
    "# preprocess test data\n",
    "test_data_list = []\n",
    "with open('imdb_test_pos.txt','r',encoding='utf8')as f:\n",
    "    lines = f.readlines()\n",
    "    for line in lines:\n",
    "        line = re.sub(\"[^a-zA-Z]\", \" \",BeautifulSoup(line).get_text()).lower()\n",
    "        test_data_list.append((line, 1))\n",
    "\n",
    "with open('imdb_test_neg.txt','r',encoding='utf8')as f:\n",
    "    lines = f.readlines()\n",
    "    for line in lines:\n",
    "        line = re.sub(\"[^a-zA-Z]\", \" \",BeautifulSoup(line).get_text()).lower()\n",
    "        test_data_list.append((line, 0))\n",
    "\n",
    "\n",
    "test_df = pd.DataFrame(test_data_list, columns=['text', 'label'])\n",
    "test_df['words'] = test_df['text'].apply(lambda x: [item for item in x.split() if item not in stopwords])\n",
    "test_df['processed_text'] = test_df['words'].apply(lambda x: ' '.join(x))\n",
    "test_data_features = vectorizer.fit_transform(list(test_df['processed_text']))\n",
    "test_data_features = test_data_features.toarray()\n",
    "test_df['predict'] = forest.predict(test_data_features)"
   ]
  },
  {
   "cell_type": "code",
   "execution_count": null,
   "metadata": {},
   "outputs": [],
   "source": [
    "# predict and print the performance\n",
    "from sklearn.metrics import accuracy_score, recall_score, f1_score, precision_score\n",
    "accuracy = accuracy_score(test_df['label'], test_df['predict'])\n",
    "precision = precision_score(test_df['label'], test_df['predict'])\n",
    "recall = recall_score(test_df['label'], test_df['predict'])\n",
    "f_measure = f1_score(test_df['label'], test_df['predict'])\n",
    "accuracy, precision, recall, f_measure"
   ]
  },
  {
   "cell_type": "code",
   "execution_count": null,
   "metadata": {},
   "outputs": [],
   "source": []
  }
 ],
 "metadata": {
  "kernelspec": {
   "display_name": "Python 3",
   "language": "python",
   "name": "python3"
  },
  "language_info": {
   "codemirror_mode": {
    "name": "ipython",
    "version": 3
   },
   "file_extension": ".py",
   "mimetype": "text/x-python",
   "name": "python",
   "nbconvert_exporter": "python",
   "pygments_lexer": "ipython3",
   "version": "3.6.4"
  }
 },
 "nbformat": 4,
 "nbformat_minor": 2
}
