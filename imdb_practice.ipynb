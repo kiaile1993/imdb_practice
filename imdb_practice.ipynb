{
 "cells": [
  {
   "cell_type": "code",
   "execution_count": 1,
   "metadata": {},
   "outputs": [],
   "source": [
    "import pandas as pd\n",
    "from bs4 import BeautifulSoup\n",
    "import re"
   ]
  },
  {
   "cell_type": "code",
   "execution_count": 2,
   "metadata": {},
   "outputs": [],
   "source": [
    "# load stop words from english.txt\n",
    "stopwords = []\n",
    "with open('english.txt','r',encoding='utf8')as f:\n",
    "    lines = f.readlines()\n",
    "    for line in lines:\n",
    "        stopwords.append(line.replace('\\n', ''))\n",
    "stopwords = set(stopwords)"
   ]
  },
  {
   "cell_type": "code",
   "execution_count": 3,
   "metadata": {},
   "outputs": [
    {
     "name": "stderr",
     "output_type": "stream",
     "text": [
      "G:\\Anaconda\\Anaconda\\envs\\py36\\lib\\site-packages\\bs4\\__init__.py:181: UserWarning: No parser was explicitly specified, so I'm using the best available HTML parser for this system (\"lxml\"). This usually isn't a problem, but if you run this code on another system, or in a different virtual environment, it may use a different parser and behave differently.\n",
      "\n",
      "The code that caused this warning is on line 193 of the file G:\\Anaconda\\Anaconda\\envs\\py36\\lib\\runpy.py. To get rid of this warning, change code that looks like this:\n",
      "\n",
      " BeautifulSoup(YOUR_MARKUP})\n",
      "\n",
      "to this:\n",
      "\n",
      " BeautifulSoup(YOUR_MARKUP, \"lxml\")\n",
      "\n",
      "  markup_type=markup_type))\n"
     ]
    }
   ],
   "source": [
    "# concat positive comments with negative ones\n",
    "data_list = []\n",
    "with open('imdb_train_pos.txt','r',encoding='utf8')as f:\n",
    "    lines = f.readlines()\n",
    "    for line in lines:\n",
    "        line = re.sub(\"[^a-zA-Z]\", \" \",BeautifulSoup(line).get_text()).lower()\n",
    "        data_list.append((line, 1))\n",
    "\n",
    "with open('imdb_train_neg.txt','r',encoding='utf8')as f:\n",
    "    lines = f.readlines()\n",
    "    for line in lines:\n",
    "        line = re.sub(\"[^a-zA-Z]\", \" \",BeautifulSoup(line).get_text()).lower()\n",
    "        data_list.append((line, 0))\n",
    "\n",
    "\n",
    "df = pd.DataFrame(data_list, columns=['text', 'label'])"
   ]
  },
  {
   "cell_type": "code",
   "execution_count": 4,
   "metadata": {},
   "outputs": [],
   "source": [
    "# preprocess the text\n",
    "df['words'] = df['text'].apply(lambda x: [item for item in x.split() if item not in stopwords])\n",
    "df['processed_text'] = df['words'].apply(lambda x: ' '.join(x))"
   ]
  },
  {
   "cell_type": "code",
   "execution_count": 5,
   "metadata": {},
   "outputs": [],
   "source": [
    "# extract features from long text\n",
    "from sklearn.feature_extraction.text import CountVectorizer\n",
    "vectorizer = CountVectorizer(analyzer = \"word\",   \\\n",
    "                             tokenizer = None,    \\\n",
    "                             preprocessor = None, \\\n",
    "                             stop_words = None,   \\\n",
    "                             max_features = 500) \n",
    "train_data_features = vectorizer.fit_transform(list(df['processed_text']))\n",
    "train_data_features = train_data_features.toarray()\n",
    "vocab = vectorizer.get_feature_names()"
   ]
  },
  {
   "cell_type": "code",
   "execution_count": 6,
   "metadata": {},
   "outputs": [],
   "source": [
    "# train random forest model\n",
    "from sklearn.ensemble import RandomForestClassifier\n",
    " \n",
    "forest = RandomForestClassifier(n_estimators = 100) \n",
    "forest = forest.fit(train_data_features, df[\"label\"] )\n",
    "importance = forest.feature_importances_"
   ]
  },
  {
   "cell_type": "code",
   "execution_count": 7,
   "metadata": {},
   "outputs": [],
   "source": [
    "importance_list = []\n",
    "for i in range(len(vocab)):\n",
    "    importance_list.append((vocab[i], importance[i], i))\n",
    "a = pd.DataFrame(importance_list, columns=['word', 'importance', 'index'])\n",
    "a.sort_values(by='importance', ascending=False, inplace=True)\n",
    "selected_features = list(a['index'])[:25]"
   ]
  },
  {
   "cell_type": "code",
   "execution_count": 8,
   "metadata": {},
   "outputs": [],
   "source": [
    "# retrain by selected features\n",
    "from sklearn.ensemble import RandomForestClassifier\n",
    " \n",
    "forest = RandomForestClassifier(n_estimators = 100) \n",
    "forest = forest.fit(train_data_features[:, selected_features], df[\"label\"] )"
   ]
  },
  {
   "cell_type": "code",
   "execution_count": 10,
   "metadata": {},
   "outputs": [
    {
     "name": "stderr",
     "output_type": "stream",
     "text": [
      "G:\\Anaconda\\Anaconda\\envs\\py36\\lib\\site-packages\\bs4\\__init__.py:181: UserWarning: No parser was explicitly specified, so I'm using the best available HTML parser for this system (\"lxml\"). This usually isn't a problem, but if you run this code on another system, or in a different virtual environment, it may use a different parser and behave differently.\n",
      "\n",
      "The code that caused this warning is on line 193 of the file G:\\Anaconda\\Anaconda\\envs\\py36\\lib\\runpy.py. To get rid of this warning, change code that looks like this:\n",
      "\n",
      " BeautifulSoup(YOUR_MARKUP})\n",
      "\n",
      "to this:\n",
      "\n",
      " BeautifulSoup(YOUR_MARKUP, \"lxml\")\n",
      "\n",
      "  markup_type=markup_type))\n"
     ]
    }
   ],
   "source": [
    "# preprocess dev data\n",
    "dev_data_list = []\n",
    "with open('imdb_dev_pos.txt','r',encoding='utf8')as f:\n",
    "    lines = f.readlines()\n",
    "    for line in lines:\n",
    "        line = re.sub(\"[^a-zA-Z]\", \" \",BeautifulSoup(line).get_text()).lower()\n",
    "        dev_data_list.append((line, 1))\n",
    "\n",
    "with open('imdb_dev_neg.txt','r',encoding='utf8')as f:\n",
    "    lines = f.readlines()\n",
    "    for line in lines:\n",
    "        line = re.sub(\"[^a-zA-Z]\", \" \",BeautifulSoup(line).get_text()).lower()\n",
    "        dev_data_list.append((line, 0))\n",
    "\n",
    "\n",
    "dev_df = pd.DataFrame(dev_data_list, columns=['text', 'label'])\n",
    "dev_df['words'] = dev_df['text'].apply(lambda x: [item for item in x.split() if item not in stopwords])\n",
    "dev_df['processed_text'] = dev_df['words'].apply(lambda x: ' '.join(x))\n",
    "dev_data_features = vectorizer.fit_transform(list(dev_df['processed_text']))\n",
    "dev_data_features = dev_data_features.toarray()\n",
    "dev_df['predict'] = forest.predict(dev_data_features[:, selected_features])"
   ]
  },
  {
   "cell_type": "code",
   "execution_count": 11,
   "metadata": {},
   "outputs": [
    {
     "data": {
      "text/plain": [
       "(0.5584, 0.5792433537832311, 0.44996028594122317, 0.5064818953956192)"
      ]
     },
     "execution_count": 11,
     "metadata": {},
     "output_type": "execute_result"
    }
   ],
   "source": [
    "# predict and print the performance on develep set\n",
    "from sklearn.metrics import accuracy_score, recall_score, f1_score, precision_score\n",
    "accuracy = accuracy_score(dev_df['label'], dev_df['predict'])\n",
    "precision = precision_score(dev_df['label'], dev_df['predict'])\n",
    "recall = recall_score(dev_df['label'], dev_df['predict'])\n",
    "f_measure = f1_score(dev_df['label'], dev_df['predict'])\n",
    "accuracy, precision, recall, f_measure"
   ]
  },
  {
   "cell_type": "code",
   "execution_count": 12,
   "metadata": {},
   "outputs": [
    {
     "name": "stderr",
     "output_type": "stream",
     "text": [
      "G:\\Anaconda\\Anaconda\\envs\\py36\\lib\\site-packages\\bs4\\__init__.py:181: UserWarning: No parser was explicitly specified, so I'm using the best available HTML parser for this system (\"lxml\"). This usually isn't a problem, but if you run this code on another system, or in a different virtual environment, it may use a different parser and behave differently.\n",
      "\n",
      "The code that caused this warning is on line 193 of the file G:\\Anaconda\\Anaconda\\envs\\py36\\lib\\runpy.py. To get rid of this warning, change code that looks like this:\n",
      "\n",
      " BeautifulSoup(YOUR_MARKUP})\n",
      "\n",
      "to this:\n",
      "\n",
      " BeautifulSoup(YOUR_MARKUP, \"lxml\")\n",
      "\n",
      "  markup_type=markup_type))\n"
     ]
    }
   ],
   "source": [
    "# preprocess test data\n",
    "test_data_list = []\n",
    "with open('imdb_test_pos.txt','r',encoding='utf8')as f:\n",
    "    lines = f.readlines()\n",
    "    for line in lines:\n",
    "        line = re.sub(\"[^a-zA-Z]\", \" \",BeautifulSoup(line).get_text()).lower()\n",
    "        test_data_list.append((line, 1))\n",
    "\n",
    "with open('imdb_test_neg.txt','r',encoding='utf8')as f:\n",
    "    lines = f.readlines()\n",
    "    for line in lines:\n",
    "        line = re.sub(\"[^a-zA-Z]\", \" \",BeautifulSoup(line).get_text()).lower()\n",
    "        test_data_list.append((line, 0))\n",
    "\n",
    "\n",
    "test_df = pd.DataFrame(test_data_list, columns=['text', 'label'])\n",
    "test_df['words'] = test_df['text'].apply(lambda x: [item for item in x.split() if item not in stopwords])\n",
    "test_df['processed_text'] = test_df['words'].apply(lambda x: ' '.join(x))\n",
    "test_data_features = vectorizer.fit_transform(list(test_df['processed_text']))\n",
    "test_data_features = test_data_features.toarray()\n",
    "test_df['predict'] = forest.predict(test_data_features[:, selected_features])"
   ]
  },
  {
   "cell_type": "code",
   "execution_count": 13,
   "metadata": {},
   "outputs": [
    {
     "data": {
      "text/plain": [
       "(0.5512, 0.5640381717729784, 0.4493797519007603, 0.5002227171492204)"
      ]
     },
     "execution_count": 13,
     "metadata": {},
     "output_type": "execute_result"
    }
   ],
   "source": [
    "# predict and print the performance\n",
    "from sklearn.metrics import accuracy_score, recall_score, f1_score, precision_score\n",
    "accuracy = accuracy_score(test_df['label'], test_df['predict'])\n",
    "precision = precision_score(test_df['label'], test_df['predict'])\n",
    "recall = recall_score(test_df['label'], test_df['predict'])\n",
    "f_measure = f1_score(test_df['label'], test_df['predict'])\n",
    "accuracy, precision, recall, f_measure"
   ]
  },
  {
   "cell_type": "code",
   "execution_count": null,
   "metadata": {},
   "outputs": [],
   "source": []
  }
 ],
 "metadata": {
  "kernelspec": {
   "display_name": "Python 3",
   "language": "python",
   "name": "python3"
  },
  "language_info": {
   "codemirror_mode": {
    "name": "ipython",
    "version": 3
   },
   "file_extension": ".py",
   "mimetype": "text/x-python",
   "name": "python",
   "nbconvert_exporter": "python",
   "pygments_lexer": "ipython3",
   "version": "3.6.4"
  }
 },
 "nbformat": 4,
 "nbformat_minor": 2
}
